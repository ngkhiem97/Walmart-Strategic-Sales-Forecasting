{
 "cells": [
  {
   "cell_type": "code",
   "execution_count": 1,
   "id": "be8250c3-f2b7-4949-8ce8-c682bcac8d30",
   "metadata": {},
   "outputs": [],
   "source": [
    "import pandas as pd\n",
    "\n",
    "ca1 = pd.read_csv('../data/processed/CA_1_sales_data.csv')\n",
    "ca2 = pd.read_csv('../data/processed/CA_2_sales_data.csv')\n",
    "ca3 = pd.read_csv('../data/processed/CA_3_sales_data.csv')\n",
    "ca4 = pd.read_csv('../data/processed/CA_4_sales_data.csv')\n",
    "\n",
    "tx1 = pd.read_csv('../data/processed/TX_1_sales_data.csv')\n",
    "tx2 = pd.read_csv('../data/processed/TX_2_sales_data.csv')\n",
    "tx3 = pd.read_csv('../data/processed/TX_3_sales_data.csv')\n",
    "\n",
    "wi1 = pd.read_csv('../data/processed/WI_1_sales_data.csv')\n",
    "wi2 = pd.read_csv('../data/processed/WI_2_sales_data.csv')\n",
    "wi3 = pd.read_csv('../data/processed/WI_3_sales_data.csv')\n"
   ]
  },
  {
   "cell_type": "code",
   "execution_count": 5,
   "id": "6b1c5234-d3b3-4d46-bc11-ad0632a560d5",
   "metadata": {},
   "outputs": [
    {
     "name": "stdout",
     "output_type": "stream",
     "text": [
      "----- CA_1 sales data -----\n"
     ]
    },
    {
     "data": {
      "text/plain": [
       "Unnamed: 0            0\n",
       "wm_yr_wk              0\n",
       "wday                  0\n",
       "month                 0\n",
       "year                  0\n",
       "event_name_1          0\n",
       "event_type_1          0\n",
       "event_name_2          0\n",
       "event_type_2          0\n",
       "cpi                   0\n",
       "unemployment_rate     0\n",
       "gas_price             0\n",
       "snap_ca               0\n",
       "ca_walmart            0\n",
       "ca_hobbies            0\n",
       "ca_household          0\n",
       "ca_foods              0\n",
       "store_sales          10\n",
       "median_price          0\n",
       "min_price             0\n",
       "max_price             0\n",
       "dtype: int64"
      ]
     },
     "execution_count": 5,
     "metadata": {},
     "output_type": "execute_result"
    }
   ],
   "source": [
    "print(\"----- CA_1 sales data -----\")\n",
    "ca1.isnull().sum()"
   ]
  },
  {
   "cell_type": "code",
   "execution_count": 6,
   "id": "977bcd08-6607-4e57-b688-4340094b8ed7",
   "metadata": {},
   "outputs": [
    {
     "name": "stdout",
     "output_type": "stream",
     "text": [
      "----- CA_2 sales data -----\n"
     ]
    },
    {
     "data": {
      "text/plain": [
       "Unnamed: 0            0\n",
       "wm_yr_wk              0\n",
       "wday                  0\n",
       "month                 0\n",
       "year                  0\n",
       "event_name_1          0\n",
       "event_type_1          0\n",
       "event_name_2          0\n",
       "event_type_2          0\n",
       "cpi                   0\n",
       "unemployment_rate     0\n",
       "gas_price             0\n",
       "snap_ca               0\n",
       "ca_walmart            0\n",
       "ca_hobbies            0\n",
       "ca_household          0\n",
       "ca_foods              0\n",
       "store_sales          10\n",
       "median_price          0\n",
       "min_price             0\n",
       "max_price             0\n",
       "dtype: int64"
      ]
     },
     "execution_count": 6,
     "metadata": {},
     "output_type": "execute_result"
    }
   ],
   "source": [
    "print(\"----- CA_2 sales data -----\")\n",
    "ca2.isnull().sum()"
   ]
  },
  {
   "cell_type": "code",
   "execution_count": 7,
   "id": "eb3e3bcb-f5df-46af-ab35-6b3d4c425f5f",
   "metadata": {},
   "outputs": [
    {
     "name": "stdout",
     "output_type": "stream",
     "text": [
      "----- CA_3 sales data -----\n"
     ]
    },
    {
     "data": {
      "text/plain": [
       "Unnamed: 0            0\n",
       "wm_yr_wk              0\n",
       "wday                  0\n",
       "month                 0\n",
       "year                  0\n",
       "event_name_1          0\n",
       "event_type_1          0\n",
       "event_name_2          0\n",
       "event_type_2          0\n",
       "cpi                   0\n",
       "unemployment_rate     0\n",
       "gas_price             0\n",
       "snap_ca               0\n",
       "ca_walmart            0\n",
       "ca_hobbies            0\n",
       "ca_household          0\n",
       "ca_foods              0\n",
       "store_sales          10\n",
       "median_price          0\n",
       "min_price             0\n",
       "max_price             0\n",
       "dtype: int64"
      ]
     },
     "execution_count": 7,
     "metadata": {},
     "output_type": "execute_result"
    }
   ],
   "source": [
    "print(\"----- CA_3 sales data -----\")\n",
    "ca3.isnull().sum()"
   ]
  },
  {
   "cell_type": "code",
   "execution_count": 8,
   "id": "16fb10b1-e9d2-45d8-8665-7fa1a2ad4607",
   "metadata": {},
   "outputs": [
    {
     "name": "stdout",
     "output_type": "stream",
     "text": [
      "----- TX_1 sales data -----\n"
     ]
    },
    {
     "data": {
      "text/plain": [
       "Unnamed: 0            0\n",
       "wm_yr_wk              0\n",
       "wday                  0\n",
       "month                 0\n",
       "year                  0\n",
       "event_name_1          0\n",
       "event_type_1          0\n",
       "event_name_2          0\n",
       "event_type_2          0\n",
       "cpi                   0\n",
       "unemployment_rate     0\n",
       "gas_price             0\n",
       "snap_tx               0\n",
       "tx_walmart            0\n",
       "tx_hobbies            0\n",
       "tx_household          0\n",
       "tx_foods              0\n",
       "store_sales          10\n",
       "median_price          0\n",
       "min_price             0\n",
       "max_price             0\n",
       "dtype: int64"
      ]
     },
     "execution_count": 8,
     "metadata": {},
     "output_type": "execute_result"
    }
   ],
   "source": [
    "print(\"----- TX_1 sales data -----\")\n",
    "tx1.isnull().sum()"
   ]
  },
  {
   "cell_type": "code",
   "execution_count": null,
   "id": "5bef9545-63ee-4967-a2c3-021c799074df",
   "metadata": {},
   "outputs": [],
   "source": [
    "print(\"----- WI_1 sales data -----\")\n",
    "wi1.isnull().sum()"
   ]
  }
 ],
 "metadata": {
  "kernelspec": {
   "display_name": "Python 3",
   "language": "python",
   "name": "python3"
  },
  "language_info": {
   "codemirror_mode": {
    "name": "ipython",
    "version": 3
   },
   "file_extension": ".py",
   "mimetype": "text/x-python",
   "name": "python",
   "nbconvert_exporter": "python",
   "pygments_lexer": "ipython3",
   "version": "3.8.10"
  }
 },
 "nbformat": 4,
 "nbformat_minor": 5
}
