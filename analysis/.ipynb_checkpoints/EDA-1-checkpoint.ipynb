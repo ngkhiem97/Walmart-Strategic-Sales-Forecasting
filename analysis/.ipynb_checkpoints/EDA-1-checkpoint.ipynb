{
 "cells": [
  {
   "cell_type": "code",
   "execution_count": null,
   "id": "e0ac739e-4b0e-4dc3-a620-4f94987fd07f",
   "metadata": {},
   "outputs": [],
   "source": [
    "import pandas as pd"
   ]
  },
  {
   "cell_type": "markdown",
   "id": "4d01bb15-02ec-4a97-bad3-80f30630ad3f",
   "metadata": {},
   "source": [
    "# Dataset: Fuel Price"
   ]
  },
  {
   "cell_type": "code",
   "execution_count": null,
   "id": "dd3e74b0-30e2-457a-932e-f853f25532db",
   "metadata": {},
   "outputs": [],
   "source": [
    "calendar_data = pd.read_csv('../data/raw/PET_PRI_GND_DCUS_NUS_W.csv')\n",
    "calendar_data.head()"
   ]
  }
 ],
 "metadata": {
  "kernelspec": {
   "display_name": "Python 3",
   "language": "python",
   "name": "python3"
  },
  "language_info": {
   "codemirror_mode": {
    "name": "ipython",
    "version": 3
   },
   "file_extension": ".py",
   "mimetype": "text/x-python",
   "name": "python",
   "nbconvert_exporter": "python",
   "pygments_lexer": "ipython3",
   "version": "3.8.10"
  }
 },
 "nbformat": 4,
 "nbformat_minor": 5
}
