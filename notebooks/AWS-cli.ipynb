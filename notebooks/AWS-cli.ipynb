{
 "cells": [
  {
   "cell_type": "code",
   "execution_count": 4,
   "metadata": {},
   "outputs": [
    {
     "name": "stdout",
     "output_type": "stream",
     "text": [
      "sagemaker-studio-qodrzfd67o9\n",
      "sagemaker-us-east-1-583582170591\n"
     ]
    }
   ],
   "source": [
    "# access to our dataset on S3 and create Pandas data frame from it\n",
    "import pandas as pd\n",
    "import boto3\n",
    "\n",
    "s3 = boto3.resource('s3')\n",
    "# 's3' is a key word. create connection to S3 using default config and all buckets within S3\n",
    "\n",
    "for bucket in s3.buckets.all():\n",
    "    print(bucket.name)"
   ]
  },
  {
   "cell_type": "code",
   "execution_count": 9,
   "metadata": {},
   "outputs": [
    {
     "name": "stdout",
     "output_type": "stream",
     "text": [
      "{'ResponseMetadata': {'RequestId': 'CMZM03HB401KKDJT', 'HostId': 'qtdcFSTvtBxZ93Ryj4Yo/K4xTxHFRswxoh1Jlf9dmsLVsgdcRHZiE02RxdYedy55BLC/teZFXiY=', 'HTTPStatusCode': 200, 'HTTPHeaders': {'x-amz-id-2': 'qtdcFSTvtBxZ93Ryj4Yo/K4xTxHFRswxoh1Jlf9dmsLVsgdcRHZiE02RxdYedy55BLC/teZFXiY=', 'x-amz-request-id': 'CMZM03HB401KKDJT', 'date': 'Sun, 10 Jul 2022 03:45:18 GMT', 'location': '/dsci-632', 'server': 'AmazonS3', 'content-length': '0'}, 'RetryAttempts': 0}, 'Location': '/dsci-632'}\n"
     ]
    }
   ],
   "source": [
    "s3_client = boto3.client('s3')\n",
    "\n",
    "response = s3_client.create_bucket(\n",
    "    ACL='public-read',\n",
    "    Bucket='dsci-632',\n",
    ")\n",
    "\n",
    "print(response)"
   ]
  },
  {
   "cell_type": "code",
   "execution_count": 10,
   "metadata": {},
   "outputs": [
    {
     "name": "stdout",
     "output_type": "stream",
     "text": [
      "dsci-632\n",
      "sagemaker-studio-qodrzfd67o9\n",
      "sagemaker-us-east-1-583582170591\n"
     ]
    }
   ],
   "source": [
    "for bucket in s3.buckets.all():\n",
    "    print(bucket.name)"
   ]
  },
  {
   "cell_type": "code",
   "execution_count": 11,
   "metadata": {},
   "outputs": [],
   "source": [
    "import logging\n",
    "from botocore.exceptions import ClientError\n",
    "import os\n",
    "import sys\n",
    "import threading\n",
    "\n",
    "class ProgressPercentage(object):\n",
    "\n",
    "    def __init__(self, filename):\n",
    "        self._filename = filename\n",
    "        self._size = float(os.path.getsize(filename))\n",
    "        self._seen_so_far = 0\n",
    "        self._lock = threading.Lock()\n",
    "\n",
    "    def __call__(self, bytes_amount):\n",
    "        # To simplify, assume this is hooked up to a single filename\n",
    "        with self._lock:\n",
    "            self._seen_so_far += bytes_amount\n",
    "            percentage = (self._seen_so_far / self._size) * 100\n",
    "            sys.stdout.write(\n",
    "                \"\\r%s  %s / %s  (%.2f%%)\" % (\n",
    "                    self._filename, self._seen_so_far, self._size,\n",
    "                    percentage))\n",
    "            sys.stdout.flush()\n",
    "\n",
    "def upload_file(file_name, bucket, object_name=None):\n",
    "    \"\"\"Upload a file to an S3 bucket\n",
    "\n",
    "    :param file_name: File to upload\n",
    "    :param bucket: Bucket to upload to\n",
    "    :param object_name: S3 object name. If not specified then file_name is used\n",
    "    :return: True if file was uploaded, else False\n",
    "    \"\"\"\n",
    "\n",
    "    # If S3 object_name was not specified, use file_name\n",
    "    if object_name is None:\n",
    "        object_name = os.path.basename(file_name)\n",
    "\n",
    "    # Upload the file\n",
    "    s3_client = boto3.client('s3')\n",
    "    try:\n",
    "        response = s3_client.upload_file(file_name, bucket, object_name,\n",
    "                                         Callback=ProgressPercentage(file_name))\n",
    "    except ClientError as e:\n",
    "        logging.error(e)\n",
    "        return False\n",
    "    return True"
   ]
  },
  {
   "cell_type": "code",
   "execution_count": 12,
   "metadata": {},
   "outputs": [
    {
     "name": "stdout",
     "output_type": "stream",
     "text": [
      "../data/processed/CA_1_sales_data.csv  219987 / 219987.0  (100.00%)"
     ]
    },
    {
     "data": {
      "text/plain": [
       "True"
      ]
     },
     "execution_count": 12,
     "metadata": {},
     "output_type": "execute_result"
    }
   ],
   "source": [
    "upload_file(\"../data/processed/CA_1_sales_data.csv\", \"dsci-632\", \"CA_1_sales_data.csv\")"
   ]
  },
  {
   "cell_type": "code",
   "execution_count": 13,
   "metadata": {},
   "outputs": [
    {
     "name": "stdout",
     "output_type": "stream",
     "text": [
      "   Unnamed: 0  wm_yr_wk  wday  month  year event_name_1 event_type_1  \\\n",
      "0  2011-01-29     11101     1      1  2011         None         None   \n",
      "1  2011-01-30     11101     2      1  2011         None         None   \n",
      "2  2011-01-31     11101     3      1  2011         None         None   \n",
      "3  2011-02-01     11101     4      2  2011         None         None   \n",
      "4  2011-02-02     11101     5      2  2011         None         None   \n",
      "\n",
      "  event_name_2 event_type_2      cpi  ...  gas_price  snap_ca  ca_walmart  \\\n",
      "0         None         None  221.187  ...      3.163        0       39.50   \n",
      "1         None         None  221.187  ...      3.163        0       42.50   \n",
      "2         None         None  221.187  ...      3.155        0       36.50   \n",
      "3         None         None  221.898  ...      3.155        1       42.40   \n",
      "4         None         None  221.898  ...      3.155        1       38.69   \n",
      "\n",
      "   ca_hobbies  ca_household  ca_foods  store_sales  median_price  min_price  \\\n",
      "0       20.14          36.5     63.00       4337.0          3.18        0.2   \n",
      "1       30.02          29.0     67.90       4155.0          3.18        0.2   \n",
      "2       22.42          48.0     60.90       2816.0          3.18        0.2   \n",
      "3       19.08          38.5     62.70       3051.0          3.18        0.2   \n",
      "4       21.96          35.2     57.42       2630.0          3.18        0.2   \n",
      "\n",
      "   max_price  \n",
      "0       20.0  \n",
      "1       20.0  \n",
      "2       20.0  \n",
      "3       20.0  \n",
      "4       20.0  \n",
      "\n",
      "[5 rows x 21 columns]\n"
     ]
    }
   ],
   "source": [
    "s3 = boto3.client('s3')\n",
    "\n",
    "obj = s3.get_object(Bucket=\"dsci-632\", Key=\"CA_1_sales_data.csv\")\n",
    "# get object and file (key) from bucket\n",
    "\n",
    "df = pd.read_csv(obj['Body']) # 'Body' is a keyword\n",
    "print(df.head())"
   ]
  },
  {
   "cell_type": "code",
   "execution_count": 14,
   "metadata": {},
   "outputs": [
    {
     "name": "stdout",
     "output_type": "stream",
     "text": [
      "../data/processed/WI_3_sales_data.csv  218867 / 218867.0  (100.00%)"
     ]
    },
    {
     "data": {
      "text/plain": [
       "True"
      ]
     },
     "execution_count": 14,
     "metadata": {},
     "output_type": "execute_result"
    }
   ],
   "source": [
    "upload_file(\"../data/processed/CA_2_sales_data.csv\", \"dsci-632\", \"CA_2_sales_data.csv\")\n",
    "upload_file(\"../data/processed/CA_3_sales_data.csv\", \"dsci-632\", \"CA_3_sales_data.csv\")\n",
    "upload_file(\"../data/processed/CA_4_sales_data.csv\", \"dsci-632\", \"CA_4_sales_data.csv\")\n",
    "upload_file(\"../data/processed/TX_1_sales_data.csv\", \"dsci-632\", \"TX_1_sales_data.csv\")\n",
    "upload_file(\"../data/processed/TX_2_sales_data.csv\", \"dsci-632\", \"TX_2_sales_data.csv\")\n",
    "upload_file(\"../data/processed/TX_3_sales_data.csv\", \"dsci-632\", \"TX_3_sales_data.csv\")\n",
    "upload_file(\"../data/processed/WI_1_sales_data.csv\", \"dsci-632\", \"WI_1_sales_data.csv\")\n",
    "upload_file(\"../data/processed/WI_2_sales_data.csv\", \"dsci-632\", \"WI_2_sales_data.csv\")\n",
    "upload_file(\"../data/processed/WI_3_sales_data.csv\", \"dsci-632\", \"WI_3_sales_data.csv\")\n"
   ]
  }
 ],
 "metadata": {
  "kernelspec": {
   "display_name": "Python 3.8.10 64-bit",
   "language": "python",
   "name": "python3"
  },
  "language_info": {
   "codemirror_mode": {
    "name": "ipython",
    "version": 3
   },
   "file_extension": ".py",
   "mimetype": "text/x-python",
   "name": "python",
   "nbconvert_exporter": "python",
   "pygments_lexer": "ipython3",
   "version": "3.8.10"
  },
  "orig_nbformat": 4,
  "vscode": {
   "interpreter": {
    "hash": "31f2aee4e71d21fbe5cf8b01ff0e069b9275f58929596ceb00d14d90e3e16cd6"
   }
  }
 },
 "nbformat": 4,
 "nbformat_minor": 2
}
