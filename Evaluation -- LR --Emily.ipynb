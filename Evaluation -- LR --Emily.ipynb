{
 "cells": [
  {
   "cell_type": "code",
   "execution_count": 10,
   "metadata": {},
   "outputs": [],
   "source": [
    "import numpy as np\n",
    "import pandas as pd\n",
    "import matplotlib.pyplot as plt\n",
    "from sklearn.model_selection import train_test_split\n",
    "from sklearn.linear_model import LinearRegression\n",
    "from scipy.special import boxcox1p\n",
    "import seaborn as sns"
   ]
  },
  {
   "cell_type": "code",
   "execution_count": 26,
   "metadata": {},
   "outputs": [
    {
     "name": "stdout",
     "output_type": "stream",
     "text": [
      "wm_yr_wk             23378.111297\n",
      "wday                     4.004633\n",
      "month                   11.834190\n",
      "year                     2.425418\n",
      "event_name_1             0.074814\n",
      "event_type_1             0.074814\n",
      "event_name_2             0.002058\n",
      "event_type_2             0.002058\n",
      "cpi                     21.614138\n",
      "unemployment_rate        1.962759\n",
      "gas_price                0.339318\n",
      "snap_tx                  0.221121\n",
      "tx_walmart             107.574527\n",
      "tx_hobbies              75.900993\n",
      "tx_household           109.666402\n",
      "tx_foods                61.810252\n",
      "median_price             0.006359\n",
      "min_price                0.003133\n",
      "max_price                4.265244\n",
      "dtype: float64\n",
      "(1909, 19)\n",
      "(1909, 9)\n",
      "[ True  True False  True False False False False  True  True  True False\n",
      " False False  True False  True False  True]\n",
      "0.5017637404712828\n",
      "r2: 0.5017637404712828\n",
      "MAE: 281.1218496358274\n",
      "MSE: 127166.5293652731\n",
      "RMSE: 356.60416341550626\n"
     ]
    },
    {
     "data": {
      "image/png": "[encoded data removed]",
      "text/plain": [
       "<Figure size 432x288 with 1 Axes>"
      ]
     },
     "metadata": {
      "needs_background": "light"
     },
     "output_type": "display_data"
    },
    {
     "data": {
      "image/png": "[encoded data removed]",
      "text/plain": [
       "<Figure size 1152x144 with 1 Axes>"
      ]
     },
     "metadata": {
      "needs_background": "light"
     },
     "output_type": "display_data"
    }
   ],
   "source": [
    "data = pd.read_csv(\"TX_3_sales_data.csv\")\n",
    "data.drop\n",
    "data.head()\n",
    "data.shape\n",
    "\n",
    "data = data.dropna()\n",
    "\n",
    "data1 = data.iloc[:,1:17]\n",
    "# data1.head()\n",
    "\n",
    "y = data['store_sales']\n",
    "\n",
    "data2 = data.iloc[:,18:]\n",
    "# data2.head()\n",
    "\n",
    "X_new = pd.concat([data1, data2], axis=1, join='inner')\n",
    "# X_new.head()\n",
    "\n",
    "X_new.event_type_2 = X_new.event_type_2.replace({'None':0,'Cultural':1, 'Religious':1})\n",
    "X_new.event_name_2 = X_new.event_name_2.replace({\"None\":0,\"Easter\":1, \"Cinco De Mayo\":1, \"OrthodoxEaster\":1, \"Father's day\":1})\n",
    "# X_new.event_type_1 = X_new.event_type_1.replace({'None':0,'Sporting':1, 'Cultural':1, 'National':1 'Religious':1})\n",
    "X_new.event_name_1 = X_new.event_name_1.replace({'None':0, 'SuperBowl':1, 'ValentinesDay':1, 'PresidentsDay':1, 'LentStart':1,\n",
    " 'LentWeek2':1, 'StPatricksDay':1, 'Purim End':1, 'OrthodoxEaster':1, 'Pesach End':1,\n",
    " 'Cinco De Mayo':1, \"Mother's day\":1, 'MemorialDay':1, 'NBAFinalsStart':1,\n",
    " 'NBAFinalsEnd':1, \"Father's day\":1, 'IndependenceDay':1, 'Ramadan starts':1,\n",
    " 'Eid al-Fitr':1, 'LaborDay':1, 'ColumbusDay':1, 'Halloween':1, 'EidAlAdha':1,\n",
    " 'VeteransDay':1, 'Thanksgiving':1, 'Christmas':1, 'Chanukah End':1, 'NewYear':1,\n",
    " 'OrthodoxChristmas':1, 'MartinLutherKingDay':1, 'Easter':1}).astype(np.uint8)\n",
    "\n",
    "\n",
    "X_new.event_type_1 = X_new.event_type_1.replace({'None':0, 'Sporting':1, 'Cultural':1, 'National':1, 'Religious':1})\n",
    "\n",
    "x_train = X_new[:-32]\n",
    "x_test = X_new[-32:]\n",
    "y_test = y[-32:]\n",
    "y_train = y[:-32]\n",
    "\n",
    "import numpy as np\n",
    "import pandas as pd\n",
    "import matplotlib.pyplot as plt\n",
    "from sklearn.model_selection import train_test_split\n",
    "from sklearn.linear_model import LinearRegression\n",
    "from scipy.special import boxcox1p\n",
    "import seaborn as sns\n",
    "\n",
    "\n",
    "LR=LinearRegression(normalize=True)\n",
    "LR.fit(x_train,y_train)\n",
    "\n",
    "from sklearn.linear_model import LinearRegression\n",
    "\n",
    "# lin_reg = LinearRegression()\n",
    "# lin_reg.fit(X_new, y)\n",
    "# lin_reg.intercept_, lin_reg.coef_\n",
    "\n",
    "from sklearn.feature_selection import f_classif, f_regression, chi2\n",
    "import matplotlib.pyplot as plt\n",
    "F, p = f_classif(x_train, y_train)\n",
    "plt.figure()\n",
    "plt.semilogy(p, 'o')\n",
    "\n",
    "from sklearn.feature_selection import VarianceThreshold\n",
    "sel = VarianceThreshold(threshold=(.8 * (1 - .8)))\n",
    "sel.fit_transform(X_new)\n",
    "print(X_new.var())\n",
    "\n",
    "from sklearn.feature_selection import SelectPercentile\n",
    "from sklearn.model_selection import train_test_split\n",
    "select = SelectPercentile(percentile=50)\n",
    "select.fit(x_train, y_train)\n",
    "# transform training set:\n",
    "x_train_selected = select.transform(x_train)\n",
    "\n",
    "print(x_train.shape)\n",
    "print(x_train_selected.shape)\n",
    "\n",
    "mask = select.get_support()\n",
    "print(mask)\n",
    "# visualize the mask. black is True, white is False\n",
    "plt.matshow(mask.reshape(1, -1), cmap='gray_r')\n",
    "\n",
    "scaler=MinMaxScaler()\n",
    "from sklearn.pipeline import Pipeline\n",
    "pipeline = Pipeline(steps = [\n",
    "            ('imputer', SimpleImputer()),\n",
    "            ('scaler', scaler),\n",
    "            ('LR',LinearRegression(normalize=True))\n",
    "        ])\n",
    "pipeline.fit(x_train, y_train)\n",
    "\n",
    "y_train_pred = pipeline.predict(x_train)\n",
    "y_pred = pipeline.predict(x_test)\n",
    "score_train = r2_score(y_train, y_train_pred)\n",
    "from sklearn.metrics import r2_score\n",
    "r2=r2_score(y_test,y_pred)\n",
    "print(r2)\n",
    "# score = r2_score(y_test, y_pred)\n",
    "# print(f'Train score: {score_train.round(2)}')\n",
    "# print(f'Test score: {score.round(2)}\\n')\n",
    "\n",
    "from sklearn.metrics import r2_score\n",
    "r2=r2_score(y_test,y_pred)\n",
    "print('r2:',r2)\n",
    "from sklearn import metrics\n",
    "print('MAE:',metrics.mean_absolute_error(y_test, y_pred))\n",
    "print('MSE:', metrics.mean_squared_error(y_test, y_pred))\n",
    "print('RMSE:',np.sqrt(metrics.mean_squared_error(y_test, y_pred)))\n"
   ]
  },
  {
   "cell_type": "code",
   "execution_count": null,
   "metadata": {},
   "outputs": [],
   "source": []
  }
 ],
 "metadata": {
  "kernelspec": {
   "display_name": "Python 3",
   "language": "python",
   "name": "python3"
  },
  "language_info": {
   "codemirror_mode": {
    "name": "ipython",
    "version": 3
   },
   "file_extension": ".py",
   "mimetype": "text/x-python",
   "name": "python",
   "nbconvert_exporter": "python",
   "pygments_lexer": "ipython3",
   "version": "3.8.5"
  }
 },
 "nbformat": 4,
 "nbformat_minor": 4
}
